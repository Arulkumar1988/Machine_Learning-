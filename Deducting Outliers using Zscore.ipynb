{
 "cells": [
  {
   "cell_type": "markdown",
   "metadata": {},
   "source": [
    "# Deducting Outliers using Zscore"
   ]
  },
  {
   "cell_type": "code",
   "execution_count": 1,
   "metadata": {},
   "outputs": [],
   "source": [
    "import pandas as pd\n",
    "import numpy as np\n",
    "import matplotlib.pyplot as plt\n",
    "%matplotlib inline\n",
    "import seaborn as sns\n"
   ]
  },
  {
   "cell_type": "code",
   "execution_count": 2,
   "metadata": {},
   "outputs": [],
   "source": [
    "#Importing data set\n",
    "\n",
    "Data = pd.read_excel(\"D:/Kaggel/House Price/2_Column_linear regression.xlsx\")\n",
    "\n"
   ]
  },
  {
   "cell_type": "code",
   "execution_count": 3,
   "metadata": {},
   "outputs": [
    {
     "data": {
      "text/plain": [
       "([array([1.2951e+04, 9.4000e+01, 1.2000e+01, 2.0000e+00, 1.0000e+00,\n",
       "         2.0000e+00, 2.0000e+00, 0.0000e+00, 1.0000e+00, 1.0000e+00]),\n",
       "  array([13066.,     0.,     0.,     0.,     0.,     0.,     0.,     0.,\n",
       "             0.,     0.])],\n",
       " array([8.00000e+00, 5.23440e+03, 1.04608e+04, 1.56872e+04, 2.09136e+04,\n",
       "        2.61400e+04, 3.13664e+04, 3.65928e+04, 4.18192e+04, 4.70456e+04,\n",
       "        5.22720e+04]),\n",
       " <a list of 2 Lists of Patches objects>)"
      ]
     },
     "execution_count": 3,
     "metadata": {},
     "output_type": "execute_result"
    },
    {
     "data": {
      "image/png": "[encoded data removed]",
      "text/plain": [
       "<Figure size 432x288 with 1 Axes>"
      ]
     },
     "metadata": {
      "needs_background": "light"
     },
     "output_type": "display_data"
    }
   ],
   "source": [
    "j = (Data.total_sqft, Data.price)\n",
    "plt.hist(j)\n"
   ]
  },
  {
   "cell_type": "code",
   "execution_count": 4,
   "metadata": {},
   "outputs": [],
   "source": [
    "# Zscore formala in for loop for all columns\n",
    "\n",
    "for col in Data.columns:\n",
    "    col_zscore = col+'_zscore'\n",
    "    Data[col_zscore] = (Data[col]-Data[col].mean())/Data[col].std(ddof=0)\n"
   ]
  },
  {
   "cell_type": "code",
   "execution_count": 5,
   "metadata": {},
   "outputs": [],
   "source": [
    "Data['outliers']= (abs(Data['total_sqft_zscore'])>3).astype(int)\n",
    "Data['outliers1']= (abs(Data['price'])>3).astype(int)\n"
   ]
  },
  {
   "cell_type": "code",
   "execution_count": 7,
   "metadata": {},
   "outputs": [
    {
     "data": {
      "text/html": [
       "<div>\n",
       "<style scoped>\n",
       "    .dataframe tbody tr th:only-of-type {\n",
       "        vertical-align: middle;\n",
       "    }\n",
       "\n",
       "    .dataframe tbody tr th {\n",
       "        vertical-align: top;\n",
       "    }\n",
       "\n",
       "    .dataframe thead th {\n",
       "        text-align: right;\n",
       "    }\n",
       "</style>\n",
       "<table border=\"1\" class=\"dataframe\">\n",
       "  <thead>\n",
       "    <tr style=\"text-align: right;\">\n",
       "      <th></th>\n",
       "      <th>total_sqft</th>\n",
       "      <th>price</th>\n",
       "      <th>Price in lacks</th>\n",
       "      <th>total_sqft_zscore</th>\n",
       "      <th>price_zscore</th>\n",
       "      <th>Price in lacks_zscore</th>\n",
       "      <th>outliers</th>\n",
       "      <th>outliers1</th>\n",
       "    </tr>\n",
       "  </thead>\n",
       "  <tbody>\n",
       "    <tr>\n",
       "      <th>12952</th>\n",
       "      <td>5384.0</td>\n",
       "      <td>420.0</td>\n",
       "      <td>42000000.0</td>\n",
       "      <td>3.091688</td>\n",
       "      <td>2.053799</td>\n",
       "      <td>2.053799</td>\n",
       "      <td>1</td>\n",
       "      <td>1</td>\n",
       "    </tr>\n",
       "    <tr>\n",
       "      <th>12953</th>\n",
       "      <td>5400.0</td>\n",
       "      <td>725.0</td>\n",
       "      <td>72500000.0</td>\n",
       "      <td>3.104610</td>\n",
       "      <td>4.091118</td>\n",
       "      <td>4.091118</td>\n",
       "      <td>1</td>\n",
       "      <td>1</td>\n",
       "    </tr>\n",
       "    <tr>\n",
       "      <th>12954</th>\n",
       "      <td>5400.0</td>\n",
       "      <td>972.0</td>\n",
       "      <td>97200000.0</td>\n",
       "      <td>3.104610</td>\n",
       "      <td>5.741013</td>\n",
       "      <td>5.741013</td>\n",
       "      <td>1</td>\n",
       "      <td>1</td>\n",
       "    </tr>\n",
       "    <tr>\n",
       "      <th>12955</th>\n",
       "      <td>5400.0</td>\n",
       "      <td>700.0</td>\n",
       "      <td>70000000.0</td>\n",
       "      <td>3.104610</td>\n",
       "      <td>3.924125</td>\n",
       "      <td>3.924125</td>\n",
       "      <td>1</td>\n",
       "      <td>1</td>\n",
       "    </tr>\n",
       "    <tr>\n",
       "      <th>12956</th>\n",
       "      <td>5400.0</td>\n",
       "      <td>750.0</td>\n",
       "      <td>75000000.0</td>\n",
       "      <td>3.104610</td>\n",
       "      <td>4.258112</td>\n",
       "      <td>4.258112</td>\n",
       "      <td>1</td>\n",
       "      <td>1</td>\n",
       "    </tr>\n",
       "    <tr>\n",
       "      <th>12957</th>\n",
       "      <td>5400.0</td>\n",
       "      <td>400.0</td>\n",
       "      <td>40000000.0</td>\n",
       "      <td>3.104610</td>\n",
       "      <td>1.920204</td>\n",
       "      <td>1.920204</td>\n",
       "      <td>1</td>\n",
       "      <td>1</td>\n",
       "    </tr>\n",
       "    <tr>\n",
       "      <th>12958</th>\n",
       "      <td>5400.0</td>\n",
       "      <td>700.0</td>\n",
       "      <td>70000000.0</td>\n",
       "      <td>3.104610</td>\n",
       "      <td>3.924125</td>\n",
       "      <td>3.924125</td>\n",
       "      <td>1</td>\n",
       "      <td>1</td>\n",
       "    </tr>\n",
       "    <tr>\n",
       "      <th>12959</th>\n",
       "      <td>5400.0</td>\n",
       "      <td>250.0</td>\n",
       "      <td>25000000.0</td>\n",
       "      <td>3.104610</td>\n",
       "      <td>0.918244</td>\n",
       "      <td>0.918244</td>\n",
       "      <td>1</td>\n",
       "      <td>1</td>\n",
       "    </tr>\n",
       "    <tr>\n",
       "      <th>12960</th>\n",
       "      <td>5400.0</td>\n",
       "      <td>475.0</td>\n",
       "      <td>47500000.0</td>\n",
       "      <td>3.104610</td>\n",
       "      <td>2.421185</td>\n",
       "      <td>2.421185</td>\n",
       "      <td>1</td>\n",
       "      <td>1</td>\n",
       "    </tr>\n",
       "    <tr>\n",
       "      <th>12961</th>\n",
       "      <td>5422.0</td>\n",
       "      <td>1900.0</td>\n",
       "      <td>190000000.0</td>\n",
       "      <td>3.122377</td>\n",
       "      <td>11.939807</td>\n",
       "      <td>11.939807</td>\n",
       "      <td>1</td>\n",
       "      <td>1</td>\n",
       "    </tr>\n",
       "  </tbody>\n",
       "</table>\n",
       "</div>"
      ],
      "text/plain": [
       "       total_sqft   price  Price in lacks  total_sqft_zscore  price_zscore  \\\n",
       "12952      5384.0   420.0      42000000.0           3.091688      2.053799   \n",
       "12953      5400.0   725.0      72500000.0           3.104610      4.091118   \n",
       "12954      5400.0   972.0      97200000.0           3.104610      5.741013   \n",
       "12955      5400.0   700.0      70000000.0           3.104610      3.924125   \n",
       "12956      5400.0   750.0      75000000.0           3.104610      4.258112   \n",
       "12957      5400.0   400.0      40000000.0           3.104610      1.920204   \n",
       "12958      5400.0   700.0      70000000.0           3.104610      3.924125   \n",
       "12959      5400.0   250.0      25000000.0           3.104610      0.918244   \n",
       "12960      5400.0   475.0      47500000.0           3.104610      2.421185   \n",
       "12961      5422.0  1900.0     190000000.0           3.122377     11.939807   \n",
       "\n",
       "       Price in lacks_zscore  outliers  outliers1  \n",
       "12952               2.053799         1          1  \n",
       "12953               4.091118         1          1  \n",
       "12954               5.741013         1          1  \n",
       "12955               3.924125         1          1  \n",
       "12956               4.258112         1          1  \n",
       "12957               1.920204         1          1  \n",
       "12958               3.924125         1          1  \n",
       "12959               0.918244         1          1  \n",
       "12960               2.421185         1          1  \n",
       "12961              11.939807         1          1  "
      ]
     },
     "execution_count": 7,
     "metadata": {},
     "output_type": "execute_result"
    }
   ],
   "source": [
    "Data.loc[Data.outliers==1].head(10)"
   ]
  },
  {
   "cell_type": "code",
   "execution_count": null,
   "metadata": {},
   "outputs": [],
   "source": []
  }
 ],
 "metadata": {
  "kernelspec": {
   "display_name": "Python 3",
   "language": "python",
   "name": "python3"
  },
  "language_info": {
   "codemirror_mode": {
    "name": "ipython",
    "version": 3
   },
   "file_extension": ".py",
   "mimetype": "text/x-python",
   "name": "python",
   "nbconvert_exporter": "python",
   "pygments_lexer": "ipython3",
   "version": "3.7.3"
  }
 },
 "nbformat": 4,
 "nbformat_minor": 2
}
